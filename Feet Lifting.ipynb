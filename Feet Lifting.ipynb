{
 "cells": [
  {
   "cell_type": "code",
   "execution_count": 8,
   "id": "006f692b",
   "metadata": {},
   "outputs": [],
   "source": [
    "import pandas as pd"
   ]
  },
  {
   "cell_type": "code",
   "execution_count": 9,
   "id": "f46c5614",
   "metadata": {},
   "outputs": [
    {
     "data": {
      "text/plain": [
       "Index(['class', 'x1', 'y1', 'z1', 'v1', 'x2', 'y2', 'z2', 'v2', 'x3',\n",
       "       ...\n",
       "       'z31', 'v31', 'x32', 'y32', 'z32', 'v32', 'x33', 'y33', 'z33', 'v33'],\n",
       "      dtype='object', length=133)"
      ]
     },
     "execution_count": 9,
     "metadata": {},
     "output_type": "execute_result"
    }
   ],
   "source": [
    "dataset=pd.read_csv(\"feetlifting.csv\")\n",
    "dataset.keys()"
   ]
  },
  {
   "cell_type": "code",
   "execution_count": 10,
   "id": "2d5576f7",
   "metadata": {},
   "outputs": [
    {
     "data": {
      "text/plain": [
       "(1971, 132)"
      ]
     },
     "execution_count": 10,
     "metadata": {},
     "output_type": "execute_result"
    }
   ],
   "source": [
    "X=dataset.drop(['class'],axis=1)\n",
    "y=dataset[['class']]\n",
    "X.shape"
   ]
  },
  {
   "cell_type": "code",
   "execution_count": 11,
   "id": "4634da60",
   "metadata": {},
   "outputs": [
    {
     "data": {
      "text/plain": [
       "524"
      ]
     },
     "execution_count": 11,
     "metadata": {},
     "output_type": "execute_result"
    }
   ],
   "source": [
    "df2 = len(dataset[dataset[\"class\"]==\"feet_lift\"])\n",
    "df2"
   ]
  },
  {
   "cell_type": "code",
   "execution_count": 12,
   "id": "fb02e60e",
   "metadata": {},
   "outputs": [
    {
     "data": {
      "text/plain": [
       "(1971, 10)"
      ]
     },
     "execution_count": 12,
     "metadata": {},
     "output_type": "execute_result"
    }
   ],
   "source": [
    "from sklearn.decomposition import PCA\n",
    "pca=PCA(0.95)\n",
    "X_pca=pca.fit_transform(X)\n",
    "X_pca.shape"
   ]
  },
  {
   "cell_type": "code",
   "execution_count": 13,
   "id": "d66a3ebf",
   "metadata": {},
   "outputs": [
    {
     "data": {
      "text/plain": [
       "array([[-0.46842144, -1.02438603,  0.79156459, ..., -0.36231498,\n",
       "         0.29124758, -0.0938328 ],\n",
       "       [ 0.64765595, -1.27816034,  0.60799345, ...,  0.15875127,\n",
       "         0.02908099, -0.18186925],\n",
       "       [ 1.10407366, -1.22641729,  0.82573308, ..., -0.01092096,\n",
       "        -0.00853926, -0.16925106],\n",
       "       ...,\n",
       "       [ 1.40267034, -0.25775716,  0.65746357, ...,  0.27030653,\n",
       "        -0.60808028,  0.34494117],\n",
       "       [ 1.36725095, -0.2815161 ,  0.70719041, ...,  0.22108775,\n",
       "        -0.53559631,  0.34756927],\n",
       "       [ 1.40901327, -0.28617514,  0.99771847, ...,  0.29192291,\n",
       "        -0.50022034,  0.27987708]])"
      ]
     },
     "execution_count": 13,
     "metadata": {},
     "output_type": "execute_result"
    }
   ],
   "source": [
    "X_pca"
   ]
  },
  {
   "cell_type": "code",
   "execution_count": 14,
   "id": "77b64414",
   "metadata": {},
   "outputs": [],
   "source": [
    "from sklearn.preprocessing import OrdinalEncoder\n",
    "y_encoded = OrdinalEncoder().fit_transform(y)"
   ]
  },
  {
   "cell_type": "code",
   "execution_count": 15,
   "id": "24398c9c",
   "metadata": {},
   "outputs": [],
   "source": [
    "from sklearn.model_selection import train_test_split\n",
    "X_train, X_test, y_train, y_test = train_test_split(X_pca,y_encoded,test_size=0.2)"
   ]
  },
  {
   "cell_type": "code",
   "execution_count": 16,
   "id": "473fac12",
   "metadata": {},
   "outputs": [],
   "source": [
    "import xgboost as xgb"
   ]
  },
  {
   "cell_type": "code",
   "execution_count": 19,
   "id": "8f161c0f",
   "metadata": {},
   "outputs": [
    {
     "name": "stderr",
     "output_type": "stream",
     "text": [
      "C:\\Users\\sagar\\anaconda3\\lib\\site-packages\\xgboost\\sklearn.py:885: UserWarning: `eval_metric` in `fit` method is deprecated for better compatibility with scikit-learn, use `eval_metric` in constructor or`set_params` instead.\n",
      "  warnings.warn(\n"
     ]
    },
    {
     "data": {
      "text/html": [
       "<style>#sk-container-id-1 {color: black;background-color: white;}#sk-container-id-1 pre{padding: 0;}#sk-container-id-1 div.sk-toggleable {background-color: white;}#sk-container-id-1 label.sk-toggleable__label {cursor: pointer;display: block;width: 100%;margin-bottom: 0;padding: 0.3em;box-sizing: border-box;text-align: center;}#sk-container-id-1 label.sk-toggleable__label-arrow:before {content: \"▸\";float: left;margin-right: 0.25em;color: #696969;}#sk-container-id-1 label.sk-toggleable__label-arrow:hover:before {color: black;}#sk-container-id-1 div.sk-estimator:hover label.sk-toggleable__label-arrow:before {color: black;}#sk-container-id-1 div.sk-toggleable__content {max-height: 0;max-width: 0;overflow: hidden;text-align: left;background-color: #f0f8ff;}#sk-container-id-1 div.sk-toggleable__content pre {margin: 0.2em;color: black;border-radius: 0.25em;background-color: #f0f8ff;}#sk-container-id-1 input.sk-toggleable__control:checked~div.sk-toggleable__content {max-height: 200px;max-width: 100%;overflow: auto;}#sk-container-id-1 input.sk-toggleable__control:checked~label.sk-toggleable__label-arrow:before {content: \"▾\";}#sk-container-id-1 div.sk-estimator input.sk-toggleable__control:checked~label.sk-toggleable__label {background-color: #d4ebff;}#sk-container-id-1 div.sk-label input.sk-toggleable__control:checked~label.sk-toggleable__label {background-color: #d4ebff;}#sk-container-id-1 input.sk-hidden--visually {border: 0;clip: rect(1px 1px 1px 1px);clip: rect(1px, 1px, 1px, 1px);height: 1px;margin: -1px;overflow: hidden;padding: 0;position: absolute;width: 1px;}#sk-container-id-1 div.sk-estimator {font-family: monospace;background-color: #f0f8ff;border: 1px dotted black;border-radius: 0.25em;box-sizing: border-box;margin-bottom: 0.5em;}#sk-container-id-1 div.sk-estimator:hover {background-color: #d4ebff;}#sk-container-id-1 div.sk-parallel-item::after {content: \"\";width: 100%;border-bottom: 1px solid gray;flex-grow: 1;}#sk-container-id-1 div.sk-label:hover label.sk-toggleable__label {background-color: #d4ebff;}#sk-container-id-1 div.sk-serial::before {content: \"\";position: absolute;border-left: 1px solid gray;box-sizing: border-box;top: 0;bottom: 0;left: 50%;z-index: 0;}#sk-container-id-1 div.sk-serial {display: flex;flex-direction: column;align-items: center;background-color: white;padding-right: 0.2em;padding-left: 0.2em;position: relative;}#sk-container-id-1 div.sk-item {position: relative;z-index: 1;}#sk-container-id-1 div.sk-parallel {display: flex;align-items: stretch;justify-content: center;background-color: white;position: relative;}#sk-container-id-1 div.sk-item::before, #sk-container-id-1 div.sk-parallel-item::before {content: \"\";position: absolute;border-left: 1px solid gray;box-sizing: border-box;top: 0;bottom: 0;left: 50%;z-index: -1;}#sk-container-id-1 div.sk-parallel-item {display: flex;flex-direction: column;z-index: 1;position: relative;background-color: white;}#sk-container-id-1 div.sk-parallel-item:first-child::after {align-self: flex-end;width: 50%;}#sk-container-id-1 div.sk-parallel-item:last-child::after {align-self: flex-start;width: 50%;}#sk-container-id-1 div.sk-parallel-item:only-child::after {width: 0;}#sk-container-id-1 div.sk-dashed-wrapped {border: 1px dashed gray;margin: 0 0.4em 0.5em 0.4em;box-sizing: border-box;padding-bottom: 0.4em;background-color: white;}#sk-container-id-1 div.sk-label label {font-family: monospace;font-weight: bold;display: inline-block;line-height: 1.2em;}#sk-container-id-1 div.sk-label-container {text-align: center;}#sk-container-id-1 div.sk-container {/* jupyter's `normalize.less` sets `[hidden] { display: none; }` but bootstrap.min.css set `[hidden] { display: none !important; }` so we also need the `!important` here to be able to override the default hidden behavior on the sphinx rendered scikit-learn.org. See: https://github.com/scikit-learn/scikit-learn/issues/21755 */display: inline-block !important;position: relative;}#sk-container-id-1 div.sk-text-repr-fallback {display: none;}</style><div id=\"sk-container-id-1\" class=\"sk-top-container\"><div class=\"sk-text-repr-fallback\"><pre>XGBClassifier(base_score=None, booster=None, callbacks=None,\n",
       "              colsample_bylevel=None, colsample_bynode=None,\n",
       "              colsample_bytree=None, device=None, early_stopping_rounds=None,\n",
       "              enable_categorical=False, eval_metric=None, feature_types=None,\n",
       "              gamma=None, grow_policy=None, importance_type=None,\n",
       "              interaction_constraints=None, learning_rate=None, max_bin=None,\n",
       "              max_cat_threshold=None, max_cat_to_onehot=None,\n",
       "              max_delta_step=None, max_depth=4, max_leaves=None,\n",
       "              min_child_weight=None, missing=nan, monotone_constraints=None,\n",
       "              multi_strategy=None, n_estimators=110, n_jobs=None, nthread=-1,\n",
       "              num_parallel_tree=None, ...)</pre><b>In a Jupyter environment, please rerun this cell to show the HTML representation or trust the notebook. <br />On GitHub, the HTML representation is unable to render, please try loading this page with nbviewer.org.</b></div><div class=\"sk-container\" hidden><div class=\"sk-item\"><div class=\"sk-estimator sk-toggleable\"><input class=\"sk-toggleable__control sk-hidden--visually\" id=\"sk-estimator-id-1\" type=\"checkbox\" checked><label for=\"sk-estimator-id-1\" class=\"sk-toggleable__label sk-toggleable__label-arrow\">XGBClassifier</label><div class=\"sk-toggleable__content\"><pre>XGBClassifier(base_score=None, booster=None, callbacks=None,\n",
       "              colsample_bylevel=None, colsample_bynode=None,\n",
       "              colsample_bytree=None, device=None, early_stopping_rounds=None,\n",
       "              enable_categorical=False, eval_metric=None, feature_types=None,\n",
       "              gamma=None, grow_policy=None, importance_type=None,\n",
       "              interaction_constraints=None, learning_rate=None, max_bin=None,\n",
       "              max_cat_threshold=None, max_cat_to_onehot=None,\n",
       "              max_delta_step=None, max_depth=4, max_leaves=None,\n",
       "              min_child_weight=None, missing=nan, monotone_constraints=None,\n",
       "              multi_strategy=None, n_estimators=110, n_jobs=None, nthread=-1,\n",
       "              num_parallel_tree=None, ...)</pre></div></div></div></div></div>"
      ],
      "text/plain": [
       "XGBClassifier(base_score=None, booster=None, callbacks=None,\n",
       "              colsample_bylevel=None, colsample_bynode=None,\n",
       "              colsample_bytree=None, device=None, early_stopping_rounds=None,\n",
       "              enable_categorical=False, eval_metric=None, feature_types=None,\n",
       "              gamma=None, grow_policy=None, importance_type=None,\n",
       "              interaction_constraints=None, learning_rate=None, max_bin=None,\n",
       "              max_cat_threshold=None, max_cat_to_onehot=None,\n",
       "              max_delta_step=None, max_depth=4, max_leaves=None,\n",
       "              min_child_weight=None, missing=nan, monotone_constraints=None,\n",
       "              multi_strategy=None, n_estimators=110, n_jobs=None, nthread=-1,\n",
       "              num_parallel_tree=None, ...)"
      ]
     },
     "execution_count": 19,
     "metadata": {},
     "output_type": "execute_result"
    }
   ],
   "source": [
    "m2_xgb = xgb.XGBClassifier(n_estimators=110, nthread=-1, max_depth = 4, seed=1729)\n",
    "m2_xgb.fit(X_train, y_train, eval_metric=\"auc\", verbose = False, eval_set=[(X_test, y_test)])"
   ]
  },
  {
   "cell_type": "code",
   "execution_count": 20,
   "id": "13942ed4",
   "metadata": {},
   "outputs": [],
   "source": [
    "y_predicted = m2_xgb.predict(X_test)"
   ]
  },
  {
   "cell_type": "code",
   "execution_count": 21,
   "id": "4b756ac0",
   "metadata": {},
   "outputs": [
    {
     "data": {
      "text/plain": [
       "<module 'matplotlib.pyplot' from 'C:\\\\Users\\\\sagar\\\\anaconda3\\\\lib\\\\site-packages\\\\matplotlib\\\\pyplot.py'>"
      ]
     },
     "execution_count": 21,
     "metadata": {},
     "output_type": "execute_result"
    },
    {
     "data": {
      "image/png": "[encoded data removed]",
      "text/plain": [
       "<Figure size 640x480 with 2 Axes>"
      ]
     },
     "metadata": {},
     "output_type": "display_data"
    }
   ],
   "source": [
    "from sklearn.metrics import classification_report, confusion_matrix\n",
    "import matplotlib.pyplot as plt\n",
    "import seaborn as sns\n",
    "cm=confusion_matrix(y_test,y_predicted)\n",
    "sns.heatmap(cm, annot=True, cmap=\"Blues\", fmt='g')\n",
    "plt.xlabel(\"Predicted Class\")\n",
    "plt.ylabel(\"True Class\")\n",
    "plt"
   ]
  },
  {
   "cell_type": "code",
   "execution_count": 37,
   "id": "d2a04fc8",
   "metadata": {},
   "outputs": [
    {
     "name": "stdout",
     "output_type": "stream",
     "text": [
      "[0]\tvalidation_0-auc:0.97137\tvalidation_0-error:0.05838\tvalidation_1-auc:0.98603\tvalidation_1-error:0.05570\n",
      "[1]\tvalidation_0-auc:0.98902\tvalidation_0-error:0.02982\tvalidation_1-auc:0.98861\tvalidation_1-error:0.01519\n",
      "[2]\tvalidation_0-auc:0.99921\tvalidation_0-error:0.02157\tvalidation_1-auc:0.99936\tvalidation_1-error:0.01519\n",
      "[3]\tvalidation_0-auc:0.99962\tvalidation_0-error:0.01586\tvalidation_1-auc:0.99974\tvalidation_1-error:0.01519\n",
      "[4]\tvalidation_0-auc:0.99976\tvalidation_0-error:0.01206\tvalidation_1-auc:0.99965\tvalidation_1-error:0.01266\n",
      "[5]\tvalidation_0-auc:0.99976\tvalidation_0-error:0.00952\tvalidation_1-auc:0.99959\tvalidation_1-error:0.01013\n",
      "[6]\tvalidation_0-auc:0.99987\tvalidation_0-error:0.00444\tvalidation_1-auc:0.99965\tvalidation_1-error:0.00759\n",
      "[7]\tvalidation_0-auc:0.99987\tvalidation_0-error:0.00698\tvalidation_1-auc:0.99965\tvalidation_1-error:0.01013\n",
      "[8]\tvalidation_0-auc:0.99991\tvalidation_0-error:0.00381\tvalidation_1-auc:0.99978\tvalidation_1-error:0.00759\n",
      "[9]\tvalidation_0-auc:0.99994\tvalidation_0-error:0.00254\tvalidation_1-auc:0.99984\tvalidation_1-error:0.00506\n",
      "[10]\tvalidation_0-auc:0.99996\tvalidation_0-error:0.00190\tvalidation_1-auc:0.99981\tvalidation_1-error:0.00506\n",
      "[11]\tvalidation_0-auc:0.99996\tvalidation_0-error:0.00190\tvalidation_1-auc:0.99978\tvalidation_1-error:0.00506\n",
      "[12]\tvalidation_0-auc:0.99997\tvalidation_0-error:0.00063\tvalidation_1-auc:0.99987\tvalidation_1-error:0.00506\n",
      "[13]\tvalidation_0-auc:0.99997\tvalidation_0-error:0.00063\tvalidation_1-auc:0.99990\tvalidation_1-error:0.00506\n",
      "[14]\tvalidation_0-auc:0.99998\tvalidation_0-error:0.00063\tvalidation_1-auc:0.99994\tvalidation_1-error:0.00253\n",
      "[15]\tvalidation_0-auc:0.99998\tvalidation_0-error:0.00063\tvalidation_1-auc:0.99994\tvalidation_1-error:0.00253\n",
      "[16]\tvalidation_0-auc:0.99999\tvalidation_0-error:0.00063\tvalidation_1-auc:0.99994\tvalidation_1-error:0.00253\n",
      "[17]\tvalidation_0-auc:1.00000\tvalidation_0-error:0.00063\tvalidation_1-auc:0.99994\tvalidation_1-error:0.00253\n",
      "[18]\tvalidation_0-auc:1.00000\tvalidation_0-error:0.00063\tvalidation_1-auc:0.99994\tvalidation_1-error:0.00253\n",
      "[19]\tvalidation_0-auc:1.00000\tvalidation_0-error:0.00063\tvalidation_1-auc:0.99994\tvalidation_1-error:0.00253\n",
      "[20]\tvalidation_0-auc:1.00000\tvalidation_0-error:0.00063\tvalidation_1-auc:0.99994\tvalidation_1-error:0.00253\n",
      "[21]\tvalidation_0-auc:1.00000\tvalidation_0-error:0.00063\tvalidation_1-auc:0.99994\tvalidation_1-error:0.00253\n",
      "[22]\tvalidation_0-auc:1.00000\tvalidation_0-error:0.00063\tvalidation_1-auc:0.99997\tvalidation_1-error:0.00253\n",
      "[23]\tvalidation_0-auc:1.00000\tvalidation_0-error:0.00063\tvalidation_1-auc:0.99997\tvalidation_1-error:0.00253\n",
      "[24]\tvalidation_0-auc:1.00000\tvalidation_0-error:0.00063\tvalidation_1-auc:0.99997\tvalidation_1-error:0.00253\n",
      "[25]\tvalidation_0-auc:1.00000\tvalidation_0-error:0.00063\tvalidation_1-auc:0.99997\tvalidation_1-error:0.00253\n",
      "[26]\tvalidation_0-auc:1.00000\tvalidation_0-error:0.00063\tvalidation_1-auc:0.99997\tvalidation_1-error:0.00253\n",
      "[27]\tvalidation_0-auc:1.00000\tvalidation_0-error:0.00063\tvalidation_1-auc:1.00000\tvalidation_1-error:0.00253\n",
      "[28]\tvalidation_0-auc:1.00000\tvalidation_0-error:0.00063\tvalidation_1-auc:0.99997\tvalidation_1-error:0.00253\n",
      "[29]\tvalidation_0-auc:1.00000\tvalidation_0-error:0.00063\tvalidation_1-auc:1.00000\tvalidation_1-error:0.00253\n",
      "[30]\tvalidation_0-auc:1.00000\tvalidation_0-error:0.00063\tvalidation_1-auc:1.00000\tvalidation_1-error:0.00253\n",
      "[31]\tvalidation_0-auc:1.00000\tvalidation_0-error:0.00000\tvalidation_1-auc:1.00000\tvalidation_1-error:0.00253\n",
      "[32]\tvalidation_0-auc:1.00000\tvalidation_0-error:0.00000\tvalidation_1-auc:1.00000\tvalidation_1-error:0.00253\n",
      "[33]\tvalidation_0-auc:1.00000\tvalidation_0-error:0.00000\tvalidation_1-auc:1.00000\tvalidation_1-error:0.00253\n",
      "[34]\tvalidation_0-auc:1.00000\tvalidation_0-error:0.00000\tvalidation_1-auc:1.00000\tvalidation_1-error:0.00253\n",
      "[35]\tvalidation_0-auc:1.00000\tvalidation_0-error:0.00000\tvalidation_1-auc:1.00000\tvalidation_1-error:0.00253\n",
      "[36]\tvalidation_0-auc:1.00000\tvalidation_0-error:0.00000\tvalidation_1-auc:1.00000\tvalidation_1-error:0.00253\n",
      "[37]\tvalidation_0-auc:1.00000\tvalidation_0-error:0.00000\tvalidation_1-auc:1.00000\tvalidation_1-error:0.00253\n",
      "[38]\tvalidation_0-auc:1.00000\tvalidation_0-error:0.00000\tvalidation_1-auc:1.00000\tvalidation_1-error:0.00253\n",
      "[39]\tvalidation_0-auc:1.00000\tvalidation_0-error:0.00000\tvalidation_1-auc:1.00000\tvalidation_1-error:0.00253\n",
      "[40]\tvalidation_0-auc:1.00000\tvalidation_0-error:0.00000\tvalidation_1-auc:1.00000\tvalidation_1-error:0.00506\n",
      "[41]\tvalidation_0-auc:1.00000\tvalidation_0-error:0.00000\tvalidation_1-auc:1.00000\tvalidation_1-error:0.00506\n",
      "[42]\tvalidation_0-auc:1.00000\tvalidation_0-error:0.00000\tvalidation_1-auc:1.00000\tvalidation_1-error:0.00253\n",
      "[43]\tvalidation_0-auc:1.00000\tvalidation_0-error:0.00000\tvalidation_1-auc:1.00000\tvalidation_1-error:0.00253\n",
      "[44]\tvalidation_0-auc:1.00000\tvalidation_0-error:0.00000\tvalidation_1-auc:1.00000\tvalidation_1-error:0.00253\n",
      "[45]\tvalidation_0-auc:1.00000\tvalidation_0-error:0.00000\tvalidation_1-auc:1.00000\tvalidation_1-error:0.00253\n",
      "[46]\tvalidation_0-auc:1.00000\tvalidation_0-error:0.00000\tvalidation_1-auc:1.00000\tvalidation_1-error:0.00253\n",
      "[47]\tvalidation_0-auc:1.00000\tvalidation_0-error:0.00000\tvalidation_1-auc:1.00000\tvalidation_1-error:0.00253\n",
      "[48]\tvalidation_0-auc:1.00000\tvalidation_0-error:0.00000\tvalidation_1-auc:1.00000\tvalidation_1-error:0.00253\n",
      "[49]\tvalidation_0-auc:1.00000\tvalidation_0-error:0.00000\tvalidation_1-auc:1.00000\tvalidation_1-error:0.00253\n",
      "[50]\tvalidation_0-auc:1.00000\tvalidation_0-error:0.00000\tvalidation_1-auc:1.00000\tvalidation_1-error:0.00253\n",
      "[51]\tvalidation_0-auc:1.00000\tvalidation_0-error:0.00000\tvalidation_1-auc:1.00000\tvalidation_1-error:0.00253\n",
      "[52]\tvalidation_0-auc:1.00000\tvalidation_0-error:0.00000\tvalidation_1-auc:1.00000\tvalidation_1-error:0.00253\n"
     ]
    },
    {
     "name": "stderr",
     "output_type": "stream",
     "text": [
      "C:\\Users\\sagar\\anaconda3\\lib\\site-packages\\xgboost\\sklearn.py:885: UserWarning: `eval_metric` in `fit` method is deprecated for better compatibility with scikit-learn, use `eval_metric` in constructor or`set_params` instead.\n",
      "  warnings.warn(\n"
     ]
    },
    {
     "name": "stdout",
     "output_type": "stream",
     "text": [
      "[53]\tvalidation_0-auc:1.00000\tvalidation_0-error:0.00000\tvalidation_1-auc:1.00000\tvalidation_1-error:0.00253\n",
      "[54]\tvalidation_0-auc:1.00000\tvalidation_0-error:0.00000\tvalidation_1-auc:1.00000\tvalidation_1-error:0.00253\n",
      "[55]\tvalidation_0-auc:1.00000\tvalidation_0-error:0.00000\tvalidation_1-auc:1.00000\tvalidation_1-error:0.00253\n",
      "[56]\tvalidation_0-auc:1.00000\tvalidation_0-error:0.00000\tvalidation_1-auc:1.00000\tvalidation_1-error:0.00253\n",
      "[57]\tvalidation_0-auc:1.00000\tvalidation_0-error:0.00000\tvalidation_1-auc:1.00000\tvalidation_1-error:0.00253\n",
      "[58]\tvalidation_0-auc:1.00000\tvalidation_0-error:0.00000\tvalidation_1-auc:1.00000\tvalidation_1-error:0.00253\n",
      "[59]\tvalidation_0-auc:1.00000\tvalidation_0-error:0.00000\tvalidation_1-auc:1.00000\tvalidation_1-error:0.00253\n",
      "[60]\tvalidation_0-auc:1.00000\tvalidation_0-error:0.00000\tvalidation_1-auc:1.00000\tvalidation_1-error:0.00253\n",
      "[61]\tvalidation_0-auc:1.00000\tvalidation_0-error:0.00000\tvalidation_1-auc:1.00000\tvalidation_1-error:0.00253\n",
      "[62]\tvalidation_0-auc:1.00000\tvalidation_0-error:0.00000\tvalidation_1-auc:1.00000\tvalidation_1-error:0.00253\n",
      "[63]\tvalidation_0-auc:1.00000\tvalidation_0-error:0.00000\tvalidation_1-auc:1.00000\tvalidation_1-error:0.00253\n",
      "[64]\tvalidation_0-auc:1.00000\tvalidation_0-error:0.00000\tvalidation_1-auc:1.00000\tvalidation_1-error:0.00253\n",
      "[65]\tvalidation_0-auc:1.00000\tvalidation_0-error:0.00000\tvalidation_1-auc:1.00000\tvalidation_1-error:0.00253\n",
      "[66]\tvalidation_0-auc:1.00000\tvalidation_0-error:0.00000\tvalidation_1-auc:1.00000\tvalidation_1-error:0.00253\n",
      "[67]\tvalidation_0-auc:1.00000\tvalidation_0-error:0.00000\tvalidation_1-auc:1.00000\tvalidation_1-error:0.00253\n",
      "[68]\tvalidation_0-auc:1.00000\tvalidation_0-error:0.00000\tvalidation_1-auc:1.00000\tvalidation_1-error:0.00253\n",
      "[69]\tvalidation_0-auc:1.00000\tvalidation_0-error:0.00000\tvalidation_1-auc:1.00000\tvalidation_1-error:0.00253\n",
      "[70]\tvalidation_0-auc:1.00000\tvalidation_0-error:0.00000\tvalidation_1-auc:1.00000\tvalidation_1-error:0.00253\n",
      "[71]\tvalidation_0-auc:1.00000\tvalidation_0-error:0.00000\tvalidation_1-auc:1.00000\tvalidation_1-error:0.00253\n",
      "[72]\tvalidation_0-auc:1.00000\tvalidation_0-error:0.00000\tvalidation_1-auc:1.00000\tvalidation_1-error:0.00253\n",
      "[73]\tvalidation_0-auc:1.00000\tvalidation_0-error:0.00000\tvalidation_1-auc:1.00000\tvalidation_1-error:0.00253\n",
      "[74]\tvalidation_0-auc:1.00000\tvalidation_0-error:0.00000\tvalidation_1-auc:1.00000\tvalidation_1-error:0.00253\n",
      "[75]\tvalidation_0-auc:1.00000\tvalidation_0-error:0.00000\tvalidation_1-auc:1.00000\tvalidation_1-error:0.00253\n",
      "[76]\tvalidation_0-auc:1.00000\tvalidation_0-error:0.00000\tvalidation_1-auc:1.00000\tvalidation_1-error:0.00253\n",
      "[77]\tvalidation_0-auc:1.00000\tvalidation_0-error:0.00000\tvalidation_1-auc:1.00000\tvalidation_1-error:0.00253\n",
      "[78]\tvalidation_0-auc:1.00000\tvalidation_0-error:0.00000\tvalidation_1-auc:1.00000\tvalidation_1-error:0.00253\n",
      "[79]\tvalidation_0-auc:1.00000\tvalidation_0-error:0.00000\tvalidation_1-auc:1.00000\tvalidation_1-error:0.00253\n",
      "[80]\tvalidation_0-auc:1.00000\tvalidation_0-error:0.00000\tvalidation_1-auc:1.00000\tvalidation_1-error:0.00253\n",
      "[81]\tvalidation_0-auc:1.00000\tvalidation_0-error:0.00000\tvalidation_1-auc:1.00000\tvalidation_1-error:0.00253\n",
      "[82]\tvalidation_0-auc:1.00000\tvalidation_0-error:0.00000\tvalidation_1-auc:1.00000\tvalidation_1-error:0.00253\n",
      "[83]\tvalidation_0-auc:1.00000\tvalidation_0-error:0.00000\tvalidation_1-auc:1.00000\tvalidation_1-error:0.00253\n",
      "[84]\tvalidation_0-auc:1.00000\tvalidation_0-error:0.00000\tvalidation_1-auc:1.00000\tvalidation_1-error:0.00253\n",
      "[85]\tvalidation_0-auc:1.00000\tvalidation_0-error:0.00000\tvalidation_1-auc:1.00000\tvalidation_1-error:0.00253\n",
      "[86]\tvalidation_0-auc:1.00000\tvalidation_0-error:0.00000\tvalidation_1-auc:1.00000\tvalidation_1-error:0.00253\n",
      "[87]\tvalidation_0-auc:1.00000\tvalidation_0-error:0.00000\tvalidation_1-auc:1.00000\tvalidation_1-error:0.00253\n",
      "[88]\tvalidation_0-auc:1.00000\tvalidation_0-error:0.00000\tvalidation_1-auc:1.00000\tvalidation_1-error:0.00253\n",
      "[89]\tvalidation_0-auc:1.00000\tvalidation_0-error:0.00000\tvalidation_1-auc:1.00000\tvalidation_1-error:0.00253\n",
      "[90]\tvalidation_0-auc:1.00000\tvalidation_0-error:0.00000\tvalidation_1-auc:1.00000\tvalidation_1-error:0.00253\n",
      "[91]\tvalidation_0-auc:1.00000\tvalidation_0-error:0.00000\tvalidation_1-auc:1.00000\tvalidation_1-error:0.00253\n",
      "[92]\tvalidation_0-auc:1.00000\tvalidation_0-error:0.00000\tvalidation_1-auc:1.00000\tvalidation_1-error:0.00253\n",
      "[93]\tvalidation_0-auc:1.00000\tvalidation_0-error:0.00000\tvalidation_1-auc:1.00000\tvalidation_1-error:0.00253\n",
      "[94]\tvalidation_0-auc:1.00000\tvalidation_0-error:0.00000\tvalidation_1-auc:1.00000\tvalidation_1-error:0.00253\n",
      "[95]\tvalidation_0-auc:1.00000\tvalidation_0-error:0.00000\tvalidation_1-auc:1.00000\tvalidation_1-error:0.00253\n",
      "[96]\tvalidation_0-auc:1.00000\tvalidation_0-error:0.00000\tvalidation_1-auc:1.00000\tvalidation_1-error:0.00253\n",
      "[97]\tvalidation_0-auc:1.00000\tvalidation_0-error:0.00000\tvalidation_1-auc:1.00000\tvalidation_1-error:0.00253\n",
      "[98]\tvalidation_0-auc:1.00000\tvalidation_0-error:0.00000\tvalidation_1-auc:1.00000\tvalidation_1-error:0.00253\n",
      "[99]\tvalidation_0-auc:1.00000\tvalidation_0-error:0.00000\tvalidation_1-auc:1.00000\tvalidation_1-error:0.00253\n",
      "[100]\tvalidation_0-auc:1.00000\tvalidation_0-error:0.00000\tvalidation_1-auc:1.00000\tvalidation_1-error:0.00253\n",
      "[101]\tvalidation_0-auc:1.00000\tvalidation_0-error:0.00000\tvalidation_1-auc:1.00000\tvalidation_1-error:0.00253\n",
      "[102]\tvalidation_0-auc:1.00000\tvalidation_0-error:0.00000\tvalidation_1-auc:1.00000\tvalidation_1-error:0.00253\n",
      "[103]\tvalidation_0-auc:1.00000\tvalidation_0-error:0.00000\tvalidation_1-auc:1.00000\tvalidation_1-error:0.00253\n",
      "[104]\tvalidation_0-auc:1.00000\tvalidation_0-error:0.00000\tvalidation_1-auc:1.00000\tvalidation_1-error:0.00253\n",
      "[105]\tvalidation_0-auc:1.00000\tvalidation_0-error:0.00000\tvalidation_1-auc:1.00000\tvalidation_1-error:0.00253\n",
      "[106]\tvalidation_0-auc:1.00000\tvalidation_0-error:0.00000\tvalidation_1-auc:1.00000\tvalidation_1-error:0.00253\n",
      "[107]\tvalidation_0-auc:1.00000\tvalidation_0-error:0.00000\tvalidation_1-auc:1.00000\tvalidation_1-error:0.00253\n",
      "[108]\tvalidation_0-auc:1.00000\tvalidation_0-error:0.00000\tvalidation_1-auc:1.00000\tvalidation_1-error:0.00253\n",
      "[109]\tvalidation_0-auc:1.00000\tvalidation_0-error:0.00000\tvalidation_1-auc:1.00000\tvalidation_1-error:0.00253\n",
      "CPU times: total: 1.44 s\n",
      "Wall time: 379 ms\n"
     ]
    },
    {
     "data": {
      "text/html": [
       "<style>#sk-container-id-5 {color: black;background-color: white;}#sk-container-id-5 pre{padding: 0;}#sk-container-id-5 div.sk-toggleable {background-color: white;}#sk-container-id-5 label.sk-toggleable__label {cursor: pointer;display: block;width: 100%;margin-bottom: 0;padding: 0.3em;box-sizing: border-box;text-align: center;}#sk-container-id-5 label.sk-toggleable__label-arrow:before {content: \"▸\";float: left;margin-right: 0.25em;color: #696969;}#sk-container-id-5 label.sk-toggleable__label-arrow:hover:before {color: black;}#sk-container-id-5 div.sk-estimator:hover label.sk-toggleable__label-arrow:before {color: black;}#sk-container-id-5 div.sk-toggleable__content {max-height: 0;max-width: 0;overflow: hidden;text-align: left;background-color: #f0f8ff;}#sk-container-id-5 div.sk-toggleable__content pre {margin: 0.2em;color: black;border-radius: 0.25em;background-color: #f0f8ff;}#sk-container-id-5 input.sk-toggleable__control:checked~div.sk-toggleable__content {max-height: 200px;max-width: 100%;overflow: auto;}#sk-container-id-5 input.sk-toggleable__control:checked~label.sk-toggleable__label-arrow:before {content: \"▾\";}#sk-container-id-5 div.sk-estimator input.sk-toggleable__control:checked~label.sk-toggleable__label {background-color: #d4ebff;}#sk-container-id-5 div.sk-label input.sk-toggleable__control:checked~label.sk-toggleable__label {background-color: #d4ebff;}#sk-container-id-5 input.sk-hidden--visually {border: 0;clip: rect(1px 1px 1px 1px);clip: rect(1px, 1px, 1px, 1px);height: 1px;margin: -1px;overflow: hidden;padding: 0;position: absolute;width: 1px;}#sk-container-id-5 div.sk-estimator {font-family: monospace;background-color: #f0f8ff;border: 1px dotted black;border-radius: 0.25em;box-sizing: border-box;margin-bottom: 0.5em;}#sk-container-id-5 div.sk-estimator:hover {background-color: #d4ebff;}#sk-container-id-5 div.sk-parallel-item::after {content: \"\";width: 100%;border-bottom: 1px solid gray;flex-grow: 1;}#sk-container-id-5 div.sk-label:hover label.sk-toggleable__label {background-color: #d4ebff;}#sk-container-id-5 div.sk-serial::before {content: \"\";position: absolute;border-left: 1px solid gray;box-sizing: border-box;top: 0;bottom: 0;left: 50%;z-index: 0;}#sk-container-id-5 div.sk-serial {display: flex;flex-direction: column;align-items: center;background-color: white;padding-right: 0.2em;padding-left: 0.2em;position: relative;}#sk-container-id-5 div.sk-item {position: relative;z-index: 1;}#sk-container-id-5 div.sk-parallel {display: flex;align-items: stretch;justify-content: center;background-color: white;position: relative;}#sk-container-id-5 div.sk-item::before, #sk-container-id-5 div.sk-parallel-item::before {content: \"\";position: absolute;border-left: 1px solid gray;box-sizing: border-box;top: 0;bottom: 0;left: 50%;z-index: -1;}#sk-container-id-5 div.sk-parallel-item {display: flex;flex-direction: column;z-index: 1;position: relative;background-color: white;}#sk-container-id-5 div.sk-parallel-item:first-child::after {align-self: flex-end;width: 50%;}#sk-container-id-5 div.sk-parallel-item:last-child::after {align-self: flex-start;width: 50%;}#sk-container-id-5 div.sk-parallel-item:only-child::after {width: 0;}#sk-container-id-5 div.sk-dashed-wrapped {border: 1px dashed gray;margin: 0 0.4em 0.5em 0.4em;box-sizing: border-box;padding-bottom: 0.4em;background-color: white;}#sk-container-id-5 div.sk-label label {font-family: monospace;font-weight: bold;display: inline-block;line-height: 1.2em;}#sk-container-id-5 div.sk-label-container {text-align: center;}#sk-container-id-5 div.sk-container {/* jupyter's `normalize.less` sets `[hidden] { display: none; }` but bootstrap.min.css set `[hidden] { display: none !important; }` so we also need the `!important` here to be able to override the default hidden behavior on the sphinx rendered scikit-learn.org. See: https://github.com/scikit-learn/scikit-learn/issues/21755 */display: inline-block !important;position: relative;}#sk-container-id-5 div.sk-text-repr-fallback {display: none;}</style><div id=\"sk-container-id-5\" class=\"sk-top-container\"><div class=\"sk-text-repr-fallback\"><pre>XGBClassifier(base_score=None, booster=None, callbacks=None,\n",
       "              colsample_bylevel=None, colsample_bynode=None,\n",
       "              colsample_bytree=None, device=None, early_stopping_rounds=None,\n",
       "              enable_categorical=False, eval_metric=None, feature_types=None,\n",
       "              gamma=None, grow_policy=None, importance_type=None,\n",
       "              interaction_constraints=None, learning_rate=None, max_bin=None,\n",
       "              max_cat_threshold=None, max_cat_to_onehot=None,\n",
       "              max_delta_step=None, max_depth=4, max_leaves=None,\n",
       "              min_child_weight=None, missing=nan, monotone_constraints=None,\n",
       "              multi_strategy=None, n_estimators=110, n_jobs=None, nthread=-1,\n",
       "              num_parallel_tree=None, ...)</pre><b>In a Jupyter environment, please rerun this cell to show the HTML representation or trust the notebook. <br />On GitHub, the HTML representation is unable to render, please try loading this page with nbviewer.org.</b></div><div class=\"sk-container\" hidden><div class=\"sk-item\"><div class=\"sk-estimator sk-toggleable\"><input class=\"sk-toggleable__control sk-hidden--visually\" id=\"sk-estimator-id-5\" type=\"checkbox\" checked><label for=\"sk-estimator-id-5\" class=\"sk-toggleable__label sk-toggleable__label-arrow\">XGBClassifier</label><div class=\"sk-toggleable__content\"><pre>XGBClassifier(base_score=None, booster=None, callbacks=None,\n",
       "              colsample_bylevel=None, colsample_bynode=None,\n",
       "              colsample_bytree=None, device=None, early_stopping_rounds=None,\n",
       "              enable_categorical=False, eval_metric=None, feature_types=None,\n",
       "              gamma=None, grow_policy=None, importance_type=None,\n",
       "              interaction_constraints=None, learning_rate=None, max_bin=None,\n",
       "              max_cat_threshold=None, max_cat_to_onehot=None,\n",
       "              max_delta_step=None, max_depth=4, max_leaves=None,\n",
       "              min_child_weight=None, missing=nan, monotone_constraints=None,\n",
       "              multi_strategy=None, n_estimators=110, n_jobs=None, nthread=-1,\n",
       "              num_parallel_tree=None, ...)</pre></div></div></div></div></div>"
      ],
      "text/plain": [
       "XGBClassifier(base_score=None, booster=None, callbacks=None,\n",
       "              colsample_bylevel=None, colsample_bynode=None,\n",
       "              colsample_bytree=None, device=None, early_stopping_rounds=None,\n",
       "              enable_categorical=False, eval_metric=None, feature_types=None,\n",
       "              gamma=None, grow_policy=None, importance_type=None,\n",
       "              interaction_constraints=None, learning_rate=None, max_bin=None,\n",
       "              max_cat_threshold=None, max_cat_to_onehot=None,\n",
       "              max_delta_step=None, max_depth=4, max_leaves=None,\n",
       "              min_child_weight=None, missing=nan, monotone_constraints=None,\n",
       "              multi_strategy=None, n_estimators=110, n_jobs=None, nthread=-1,\n",
       "              num_parallel_tree=None, ...)"
      ]
     },
     "execution_count": 37,
     "metadata": {},
     "output_type": "execute_result"
    }
   ],
   "source": [
    "eval_set = [(X_train, y_train), (X_test, y_test)]\n",
    "eval_metric = [\"auc\",\"error\"]\n",
    "%time m2_xgb.fit(X_train, y_train, eval_set=eval_set, eval_metric=eval_metric, verbose=True)"
   ]
  },
  {
   "cell_type": "code",
   "execution_count": 38,
   "id": "0d199a89",
   "metadata": {},
   "outputs": [],
   "source": [
    "result = m2_xgb.evals_result()\n",
    "epochs = len(result['validation_0']['error'])\n",
    "x_axis = range(0, epochs)"
   ]
  },
  {
   "cell_type": "code",
   "execution_count": 39,
   "id": "2899f8d2",
   "metadata": {},
   "outputs": [
    {
     "data": {
      "image/png": "[encoded data removed]",
      "text/plain": [
       "<Figure size 640x480 with 1 Axes>"
      ]
     },
     "metadata": {},
     "output_type": "display_data"
    }
   ],
   "source": [
    "import matplotlib.pyplot as pyplot\n",
    "fig, ax = pyplot.subplots()\n",
    "ax.plot(x_axis, result['validation_0']['auc'], label='Train')\n",
    "ax.plot(x_axis, result['validation_1']['auc'], label='Test')\n",
    "ax.legend()\n",
    "pyplot.ylabel('AUC')\n",
    "pyplot.title('XGBoost AUC')\n",
    "pyplot.show()"
   ]
  },
  {
   "cell_type": "code",
   "execution_count": 40,
   "id": "7db302e8",
   "metadata": {},
   "outputs": [
    {
     "data": {
      "text/plain": [
       "0.9974683544303797"
      ]
     },
     "execution_count": 40,
     "metadata": {},
     "output_type": "execute_result"
    }
   ],
   "source": [
    "predictions = m2_xgb.predict(X_test)\n",
    "\n",
    "# Evaluate the accuracy of the model\n",
    "accuracy = accuracy_score(y_test, predictions)\n",
    "accuracy"
   ]
  },
  {
   "cell_type": "code",
   "execution_count": 42,
   "id": "01bc24af",
   "metadata": {},
   "outputs": [
    {
     "data": {
      "text/html": [
       "<div>\n",
       "<style scoped>\n",
       "    .dataframe tbody tr th:only-of-type {\n",
       "        vertical-align: middle;\n",
       "    }\n",
       "\n",
       "    .dataframe tbody tr th {\n",
       "        vertical-align: top;\n",
       "    }\n",
       "\n",
       "    .dataframe thead th {\n",
       "        text-align: right;\n",
       "    }\n",
       "</style>\n",
       "<table border=\"1\" class=\"dataframe\">\n",
       "  <thead>\n",
       "    <tr style=\"text-align: right;\">\n",
       "      <th></th>\n",
       "      <th>class</th>\n",
       "    </tr>\n",
       "  </thead>\n",
       "  <tbody>\n",
       "    <tr>\n",
       "      <th>0</th>\n",
       "      <td>feet_no_lift</td>\n",
       "    </tr>\n",
       "    <tr>\n",
       "      <th>1</th>\n",
       "      <td>feet_no_lift</td>\n",
       "    </tr>\n",
       "    <tr>\n",
       "      <th>2</th>\n",
       "      <td>feet_no_lift</td>\n",
       "    </tr>\n",
       "    <tr>\n",
       "      <th>3</th>\n",
       "      <td>feet_no_lift</td>\n",
       "    </tr>\n",
       "    <tr>\n",
       "      <th>4</th>\n",
       "      <td>feet_no_lift</td>\n",
       "    </tr>\n",
       "    <tr>\n",
       "      <th>...</th>\n",
       "      <td>...</td>\n",
       "    </tr>\n",
       "    <tr>\n",
       "      <th>1966</th>\n",
       "      <td>feet_no_lift</td>\n",
       "    </tr>\n",
       "    <tr>\n",
       "      <th>1967</th>\n",
       "      <td>feet_no_lift</td>\n",
       "    </tr>\n",
       "    <tr>\n",
       "      <th>1968</th>\n",
       "      <td>feet_no_lift</td>\n",
       "    </tr>\n",
       "    <tr>\n",
       "      <th>1969</th>\n",
       "      <td>feet_no_lift</td>\n",
       "    </tr>\n",
       "    <tr>\n",
       "      <th>1970</th>\n",
       "      <td>feet_no_lift</td>\n",
       "    </tr>\n",
       "  </tbody>\n",
       "</table>\n",
       "<p>1971 rows × 1 columns</p>\n",
       "</div>"
      ],
      "text/plain": [
       "             class\n",
       "0     feet_no_lift\n",
       "1     feet_no_lift\n",
       "2     feet_no_lift\n",
       "3     feet_no_lift\n",
       "4     feet_no_lift\n",
       "...            ...\n",
       "1966  feet_no_lift\n",
       "1967  feet_no_lift\n",
       "1968  feet_no_lift\n",
       "1969  feet_no_lift\n",
       "1970  feet_no_lift\n",
       "\n",
       "[1971 rows x 1 columns]"
      ]
     },
     "execution_count": 42,
     "metadata": {},
     "output_type": "execute_result"
    }
   ],
   "source": [
    "y"
   ]
  },
  {
   "cell_type": "code",
   "execution_count": 43,
   "id": "57a89b49",
   "metadata": {},
   "outputs": [
    {
     "data": {
      "text/plain": [
       "array([[1.],\n",
       "       [1.],\n",
       "       [1.],\n",
       "       ...,\n",
       "       [1.],\n",
       "       [1.],\n",
       "       [1.]])"
      ]
     },
     "execution_count": 43,
     "metadata": {},
     "output_type": "execute_result"
    }
   ],
   "source": [
    "y_encoded"
   ]
  }
 ],
 "metadata": {
  "kernelspec": {
   "display_name": "Python 3 (ipykernel)",
   "language": "python",
   "name": "python3"
  },
  "language_info": {
   "codemirror_mode": {
    "name": "ipython",
    "version": 3
   },
   "file_extension": ".py",
   "mimetype": "text/x-python",
   "name": "python",
   "nbconvert_exporter": "python",
   "pygments_lexer": "ipython3",
   "version": "3.10.9"
  }
 },
 "nbformat": 4,
 "nbformat_minor": 5
}
