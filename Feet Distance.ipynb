{
 "cells": [
  {
   "cell_type": "code",
   "execution_count": 5,
   "id": "720d3620",
   "metadata": {},
   "outputs": [],
   "source": [
    "import pandas as pd"
   ]
  },
  {
   "cell_type": "code",
   "execution_count": 6,
   "id": "79c79086",
   "metadata": {},
   "outputs": [
    {
     "data": {
      "text/plain": [
       "Index(['class', 'x1', 'y1', 'z1', 'v1', 'x2', 'y2', 'z2', 'v2', 'x3',\n",
       "       ...\n",
       "       'z31', 'v31', 'x32', 'y32', 'z32', 'v32', 'x33', 'y33', 'z33', 'v33'],\n",
       "      dtype='object', length=133)"
      ]
     },
     "execution_count": 6,
     "metadata": {},
     "output_type": "execute_result"
    }
   ],
   "source": [
    "dataset=pd.read_csv(\"feetdistance.csv\")\n",
    "dataset.keys()"
   ]
  },
  {
   "cell_type": "code",
   "execution_count": 7,
   "id": "7e7989a5",
   "metadata": {},
   "outputs": [
    {
     "data": {
      "text/plain": [
       "(2669, 132)"
      ]
     },
     "execution_count": 7,
     "metadata": {},
     "output_type": "execute_result"
    }
   ],
   "source": [
    "X=dataset.drop(['class'],axis=1)\n",
    "y=dataset[['class']]\n",
    "X.shape"
   ]
  },
  {
   "cell_type": "code",
   "execution_count": 8,
   "id": "02b2b047",
   "metadata": {},
   "outputs": [
    {
     "data": {
      "text/plain": [
       "1078"
      ]
     },
     "execution_count": 8,
     "metadata": {},
     "output_type": "execute_result"
    }
   ],
   "source": [
    "df2 = len(dataset[dataset[\"class\"]==\"feet_dist_normal\"])\n",
    "df2"
   ]
  },
  {
   "cell_type": "code",
   "execution_count": 35,
   "id": "922c8573",
   "metadata": {},
   "outputs": [
    {
     "data": {
      "text/plain": [
       "(2669, 9)"
      ]
     },
     "execution_count": 35,
     "metadata": {},
     "output_type": "execute_result"
    }
   ],
   "source": [
    "from sklearn.decomposition import PCA\n",
    "pca=PCA(0.95)\n",
    "X_pca=pca.fit_transform(X)\n",
    "X_pca.shape"
   ]
  },
  {
   "cell_type": "code",
   "execution_count": 36,
   "id": "f5d9e549",
   "metadata": {},
   "outputs": [
    {
     "data": {
      "text/plain": [
       "array([[-1.59885719e+00,  8.77798323e-01,  1.60002570e+00, ...,\n",
       "        -2.62498252e-01,  4.18624129e-03,  2.48874220e-01],\n",
       "       [-1.58652831e+00,  5.31353724e-01,  1.53672532e+00, ...,\n",
       "        -3.14771153e-01,  1.03467635e-01,  2.14448285e-01],\n",
       "       [-1.37006323e+00, -2.62918619e-01,  9.75567306e-01, ...,\n",
       "        -6.76003875e-01, -6.21640961e-04,  2.03247981e-01],\n",
       "       ...,\n",
       "       [-1.18156485e+00,  7.89173709e-01, -4.10030449e-01, ...,\n",
       "         1.06222920e+00, -2.97862292e-01,  5.05032092e-01],\n",
       "       [-1.18436100e+00,  8.08039807e-01, -1.07668881e-02, ...,\n",
       "         1.12579712e+00, -2.49707499e-01,  6.52759655e-01],\n",
       "       [-1.15843713e+00,  8.96230044e-01,  4.11249402e-01, ...,\n",
       "         1.07878103e+00, -3.47871122e-01,  7.19253735e-01]])"
      ]
     },
     "execution_count": 36,
     "metadata": {},
     "output_type": "execute_result"
    }
   ],
   "source": [
    "X_pca"
   ]
  },
  {
   "cell_type": "code",
   "execution_count": 37,
   "id": "ff8817f7",
   "metadata": {},
   "outputs": [],
   "source": [
    "from sklearn.preprocessing import OrdinalEncoder\n",
    "y_encoded = OrdinalEncoder().fit_transform(y)"
   ]
  },
  {
   "cell_type": "code",
   "execution_count": 38,
   "id": "241fd591",
   "metadata": {},
   "outputs": [],
   "source": [
    "from sklearn.model_selection import train_test_split\n",
    "X_train, X_test, y_train, y_test = train_test_split(X_pca,y_encoded,test_size=0.2)"
   ]
  },
  {
   "cell_type": "code",
   "execution_count": 39,
   "id": "db568713",
   "metadata": {},
   "outputs": [],
   "source": [
    "import xgboost as xgb"
   ]
  },
  {
   "cell_type": "code",
   "execution_count": 40,
   "id": "fc1f5411",
   "metadata": {},
   "outputs": [
    {
     "name": "stderr",
     "output_type": "stream",
     "text": [
      "C:\\Users\\sagar\\anaconda3\\lib\\site-packages\\xgboost\\sklearn.py:885: UserWarning: `eval_metric` in `fit` method is deprecated for better compatibility with scikit-learn, use `eval_metric` in constructor or`set_params` instead.\n",
      "  warnings.warn(\n"
     ]
    },
    {
     "data": {
      "text/html": [
       "<style>#sk-container-id-5 {color: black;background-color: white;}#sk-container-id-5 pre{padding: 0;}#sk-container-id-5 div.sk-toggleable {background-color: white;}#sk-container-id-5 label.sk-toggleable__label {cursor: pointer;display: block;width: 100%;margin-bottom: 0;padding: 0.3em;box-sizing: border-box;text-align: center;}#sk-container-id-5 label.sk-toggleable__label-arrow:before {content: \"▸\";float: left;margin-right: 0.25em;color: #696969;}#sk-container-id-5 label.sk-toggleable__label-arrow:hover:before {color: black;}#sk-container-id-5 div.sk-estimator:hover label.sk-toggleable__label-arrow:before {color: black;}#sk-container-id-5 div.sk-toggleable__content {max-height: 0;max-width: 0;overflow: hidden;text-align: left;background-color: #f0f8ff;}#sk-container-id-5 div.sk-toggleable__content pre {margin: 0.2em;color: black;border-radius: 0.25em;background-color: #f0f8ff;}#sk-container-id-5 input.sk-toggleable__control:checked~div.sk-toggleable__content {max-height: 200px;max-width: 100%;overflow: auto;}#sk-container-id-5 input.sk-toggleable__control:checked~label.sk-toggleable__label-arrow:before {content: \"▾\";}#sk-container-id-5 div.sk-estimator input.sk-toggleable__control:checked~label.sk-toggleable__label {background-color: #d4ebff;}#sk-container-id-5 div.sk-label input.sk-toggleable__control:checked~label.sk-toggleable__label {background-color: #d4ebff;}#sk-container-id-5 input.sk-hidden--visually {border: 0;clip: rect(1px 1px 1px 1px);clip: rect(1px, 1px, 1px, 1px);height: 1px;margin: -1px;overflow: hidden;padding: 0;position: absolute;width: 1px;}#sk-container-id-5 div.sk-estimator {font-family: monospace;background-color: #f0f8ff;border: 1px dotted black;border-radius: 0.25em;box-sizing: border-box;margin-bottom: 0.5em;}#sk-container-id-5 div.sk-estimator:hover {background-color: #d4ebff;}#sk-container-id-5 div.sk-parallel-item::after {content: \"\";width: 100%;border-bottom: 1px solid gray;flex-grow: 1;}#sk-container-id-5 div.sk-label:hover label.sk-toggleable__label {background-color: #d4ebff;}#sk-container-id-5 div.sk-serial::before {content: \"\";position: absolute;border-left: 1px solid gray;box-sizing: border-box;top: 0;bottom: 0;left: 50%;z-index: 0;}#sk-container-id-5 div.sk-serial {display: flex;flex-direction: column;align-items: center;background-color: white;padding-right: 0.2em;padding-left: 0.2em;position: relative;}#sk-container-id-5 div.sk-item {position: relative;z-index: 1;}#sk-container-id-5 div.sk-parallel {display: flex;align-items: stretch;justify-content: center;background-color: white;position: relative;}#sk-container-id-5 div.sk-item::before, #sk-container-id-5 div.sk-parallel-item::before {content: \"\";position: absolute;border-left: 1px solid gray;box-sizing: border-box;top: 0;bottom: 0;left: 50%;z-index: -1;}#sk-container-id-5 div.sk-parallel-item {display: flex;flex-direction: column;z-index: 1;position: relative;background-color: white;}#sk-container-id-5 div.sk-parallel-item:first-child::after {align-self: flex-end;width: 50%;}#sk-container-id-5 div.sk-parallel-item:last-child::after {align-self: flex-start;width: 50%;}#sk-container-id-5 div.sk-parallel-item:only-child::after {width: 0;}#sk-container-id-5 div.sk-dashed-wrapped {border: 1px dashed gray;margin: 0 0.4em 0.5em 0.4em;box-sizing: border-box;padding-bottom: 0.4em;background-color: white;}#sk-container-id-5 div.sk-label label {font-family: monospace;font-weight: bold;display: inline-block;line-height: 1.2em;}#sk-container-id-5 div.sk-label-container {text-align: center;}#sk-container-id-5 div.sk-container {/* jupyter's `normalize.less` sets `[hidden] { display: none; }` but bootstrap.min.css set `[hidden] { display: none !important; }` so we also need the `!important` here to be able to override the default hidden behavior on the sphinx rendered scikit-learn.org. See: https://github.com/scikit-learn/scikit-learn/issues/21755 */display: inline-block !important;position: relative;}#sk-container-id-5 div.sk-text-repr-fallback {display: none;}</style><div id=\"sk-container-id-5\" class=\"sk-top-container\"><div class=\"sk-text-repr-fallback\"><pre>XGBClassifier(base_score=None, booster=None, callbacks=None,\n",
       "              colsample_bylevel=None, colsample_bynode=None,\n",
       "              colsample_bytree=None, device=None, early_stopping_rounds=None,\n",
       "              enable_categorical=False, eval_metric=None, feature_types=None,\n",
       "              gamma=None, grow_policy=None, importance_type=None,\n",
       "              interaction_constraints=None, learning_rate=None, max_bin=None,\n",
       "              max_cat_threshold=None, max_cat_to_onehot=None,\n",
       "              max_delta_step=None, max_depth=4, max_leaves=None,\n",
       "              min_child_weight=None, missing=nan, monotone_constraints=None,\n",
       "              multi_strategy=None, n_estimators=110, n_jobs=None, nthread=-1,\n",
       "              num_parallel_tree=None, ...)</pre><b>In a Jupyter environment, please rerun this cell to show the HTML representation or trust the notebook. <br />On GitHub, the HTML representation is unable to render, please try loading this page with nbviewer.org.</b></div><div class=\"sk-container\" hidden><div class=\"sk-item\"><div class=\"sk-estimator sk-toggleable\"><input class=\"sk-toggleable__control sk-hidden--visually\" id=\"sk-estimator-id-5\" type=\"checkbox\" checked><label for=\"sk-estimator-id-5\" class=\"sk-toggleable__label sk-toggleable__label-arrow\">XGBClassifier</label><div class=\"sk-toggleable__content\"><pre>XGBClassifier(base_score=None, booster=None, callbacks=None,\n",
       "              colsample_bylevel=None, colsample_bynode=None,\n",
       "              colsample_bytree=None, device=None, early_stopping_rounds=None,\n",
       "              enable_categorical=False, eval_metric=None, feature_types=None,\n",
       "              gamma=None, grow_policy=None, importance_type=None,\n",
       "              interaction_constraints=None, learning_rate=None, max_bin=None,\n",
       "              max_cat_threshold=None, max_cat_to_onehot=None,\n",
       "              max_delta_step=None, max_depth=4, max_leaves=None,\n",
       "              min_child_weight=None, missing=nan, monotone_constraints=None,\n",
       "              multi_strategy=None, n_estimators=110, n_jobs=None, nthread=-1,\n",
       "              num_parallel_tree=None, ...)</pre></div></div></div></div></div>"
      ],
      "text/plain": [
       "XGBClassifier(base_score=None, booster=None, callbacks=None,\n",
       "              colsample_bylevel=None, colsample_bynode=None,\n",
       "              colsample_bytree=None, device=None, early_stopping_rounds=None,\n",
       "              enable_categorical=False, eval_metric=None, feature_types=None,\n",
       "              gamma=None, grow_policy=None, importance_type=None,\n",
       "              interaction_constraints=None, learning_rate=None, max_bin=None,\n",
       "              max_cat_threshold=None, max_cat_to_onehot=None,\n",
       "              max_delta_step=None, max_depth=4, max_leaves=None,\n",
       "              min_child_weight=None, missing=nan, monotone_constraints=None,\n",
       "              multi_strategy=None, n_estimators=110, n_jobs=None, nthread=-1,\n",
       "              num_parallel_tree=None, ...)"
      ]
     },
     "execution_count": 40,
     "metadata": {},
     "output_type": "execute_result"
    }
   ],
   "source": [
    "m2_xgb = xgb.XGBClassifier(n_estimators=110, nthread=-1, max_depth = 4, seed=1729)\n",
    "m2_xgb.fit(X_train, y_train, eval_metric=\"auc\", verbose = False, eval_set=[(X_test, y_test)])"
   ]
  },
  {
   "cell_type": "code",
   "execution_count": 41,
   "id": "f1873889",
   "metadata": {},
   "outputs": [],
   "source": [
    "y_predicted = m2_xgb.predict(X_test)"
   ]
  },
  {
   "cell_type": "code",
   "execution_count": 42,
   "id": "7399da20",
   "metadata": {},
   "outputs": [
    {
     "data": {
      "text/plain": [
       "<module 'matplotlib.pyplot' from 'C:\\\\Users\\\\sagar\\\\anaconda3\\\\lib\\\\site-packages\\\\matplotlib\\\\pyplot.py'>"
      ]
     },
     "execution_count": 42,
     "metadata": {},
     "output_type": "execute_result"
    },
    {
     "data": {
      "image/png": "[encoded data removed]",
      "text/plain": [
       "<Figure size 640x480 with 2 Axes>"
      ]
     },
     "metadata": {},
     "output_type": "display_data"
    }
   ],
   "source": [
    "from sklearn.metrics import classification_report, confusion_matrix\n",
    "import matplotlib.pyplot as plt\n",
    "import seaborn as sns\n",
    "cm=confusion_matrix(y_test,y_predicted)\n",
    "# plt.figure(figsize=(20,20))\n",
    "sns.heatmap(cm, annot=True,cmap=\"Blues\", fmt='g')\n",
    "plt.xlabel(\"Predicted Class\")\n",
    "plt.ylabel(\"True Class\")\n",
    "plt"
   ]
  },
  {
   "cell_type": "code",
   "execution_count": 46,
   "id": "c47d027d",
   "metadata": {},
   "outputs": [
    {
     "name": "stdout",
     "output_type": "stream",
     "text": [
      "[0]\tvalidation_0-auc:0.98989\tvalidation_0-merror:0.06511\tvalidation_1-auc:0.98322\tvalidation_1-merror:0.08427\n",
      "[1]\tvalidation_0-auc:0.99142\tvalidation_0-merror:0.05105\tvalidation_1-auc:0.98675\tvalidation_1-merror:0.07491\n",
      "[2]\tvalidation_0-auc:0.99420\tvalidation_0-merror:0.04731\tvalidation_1-auc:0.98990\tvalidation_1-merror:0.07116\n",
      "[3]\tvalidation_0-auc:0.99482\tvalidation_0-merror:0.05105\tvalidation_1-auc:0.99027\tvalidation_1-merror:0.07303\n",
      "[4]\tvalidation_0-auc:0.99608\tvalidation_0-merror:0.04262\tvalidation_1-auc:0.99118\tvalidation_1-merror:0.07116\n",
      "[5]\tvalidation_0-auc:0.99683\tvalidation_0-merror:0.04122\tvalidation_1-auc:0.99167\tvalidation_1-merror:0.06180\n",
      "[6]\tvalidation_0-auc:0.99729\tvalidation_0-merror:0.03981\tvalidation_1-auc:0.99217\tvalidation_1-merror:0.05805\n",
      "[7]\tvalidation_0-auc:0.99781\tvalidation_0-merror:0.03607\tvalidation_1-auc:0.99328\tvalidation_1-merror:0.05431\n",
      "[8]\tvalidation_0-auc:0.99813\tvalidation_0-merror:0.03513\tvalidation_1-auc:0.99334\tvalidation_1-merror:0.05243\n",
      "[9]\tvalidation_0-auc:0.99844\tvalidation_0-merror:0.02998\tvalidation_1-auc:0.99353\tvalidation_1-merror:0.05056\n",
      "[10]\tvalidation_0-auc:0.99861\tvalidation_0-merror:0.02951\tvalidation_1-auc:0.99388\tvalidation_1-merror:0.05056\n",
      "[11]\tvalidation_0-auc:0.99879\tvalidation_0-merror:0.02576\tvalidation_1-auc:0.99403\tvalidation_1-merror:0.04869\n",
      "[12]\tvalidation_0-auc:0.99904\tvalidation_0-merror:0.02342\tvalidation_1-auc:0.99439\tvalidation_1-merror:0.04869\n",
      "[13]\tvalidation_0-auc:0.99917\tvalidation_0-merror:0.02108\tvalidation_1-auc:0.99472\tvalidation_1-merror:0.05056\n",
      "[14]\tvalidation_0-auc:0.99928\tvalidation_0-merror:0.02201\tvalidation_1-auc:0.99510\tvalidation_1-merror:0.05056\n",
      "[15]\tvalidation_0-auc:0.99933\tvalidation_0-merror:0.01780\tvalidation_1-auc:0.99538\tvalidation_1-merror:0.04494\n",
      "[16]\tvalidation_0-auc:0.99953\tvalidation_0-merror:0.01358\tvalidation_1-auc:0.99564\tvalidation_1-merror:0.04307\n",
      "[17]\tvalidation_0-auc:0.99964\tvalidation_0-merror:0.00937\tvalidation_1-auc:0.99573\tvalidation_1-merror:0.04307\n",
      "[18]\tvalidation_0-auc:0.99971\tvalidation_0-merror:0.01077\tvalidation_1-auc:0.99604\tvalidation_1-merror:0.03933\n",
      "[19]\tvalidation_0-auc:0.99979\tvalidation_0-merror:0.00843\tvalidation_1-auc:0.99617\tvalidation_1-merror:0.03933\n",
      "[20]\tvalidation_0-auc:0.99985\tvalidation_0-merror:0.00749\tvalidation_1-auc:0.99636\tvalidation_1-merror:0.03933\n",
      "[21]\tvalidation_0-auc:0.99988\tvalidation_0-merror:0.00562\tvalidation_1-auc:0.99647\tvalidation_1-merror:0.04120\n",
      "[22]\tvalidation_0-auc:0.99991\tvalidation_0-merror:0.00375\tvalidation_1-auc:0.99679\tvalidation_1-merror:0.03371\n",
      "[23]\tvalidation_0-auc:0.99993\tvalidation_0-merror:0.00281\tvalidation_1-auc:0.99694\tvalidation_1-merror:0.03371\n",
      "[24]\tvalidation_0-auc:0.99994\tvalidation_0-merror:0.00234\tvalidation_1-auc:0.99706\tvalidation_1-merror:0.03371\n",
      "[25]\tvalidation_0-auc:0.99996\tvalidation_0-merror:0.00234\tvalidation_1-auc:0.99706\tvalidation_1-merror:0.03371\n",
      "[26]\tvalidation_0-auc:0.99998\tvalidation_0-merror:0.00281\tvalidation_1-auc:0.99729\tvalidation_1-merror:0.03184\n"
     ]
    },
    {
     "name": "stderr",
     "output_type": "stream",
     "text": [
      "C:\\Users\\sagar\\anaconda3\\lib\\site-packages\\xgboost\\sklearn.py:885: UserWarning: `eval_metric` in `fit` method is deprecated for better compatibility with scikit-learn, use `eval_metric` in constructor or`set_params` instead.\n",
      "  warnings.warn(\n"
     ]
    },
    {
     "name": "stdout",
     "output_type": "stream",
     "text": [
      "[27]\tvalidation_0-auc:0.99999\tvalidation_0-merror:0.00187\tvalidation_1-auc:0.99748\tvalidation_1-merror:0.03371\n",
      "[28]\tvalidation_0-auc:0.99999\tvalidation_0-merror:0.00141\tvalidation_1-auc:0.99755\tvalidation_1-merror:0.03184\n",
      "[29]\tvalidation_0-auc:0.99999\tvalidation_0-merror:0.00141\tvalidation_1-auc:0.99767\tvalidation_1-merror:0.03184\n",
      "[30]\tvalidation_0-auc:1.00000\tvalidation_0-merror:0.00094\tvalidation_1-auc:0.99769\tvalidation_1-merror:0.02622\n",
      "[31]\tvalidation_0-auc:1.00000\tvalidation_0-merror:0.00094\tvalidation_1-auc:0.99770\tvalidation_1-merror:0.02809\n",
      "[32]\tvalidation_0-auc:1.00000\tvalidation_0-merror:0.00094\tvalidation_1-auc:0.99783\tvalidation_1-merror:0.02809\n",
      "[33]\tvalidation_0-auc:1.00000\tvalidation_0-merror:0.00047\tvalidation_1-auc:0.99779\tvalidation_1-merror:0.02809\n",
      "[34]\tvalidation_0-auc:1.00000\tvalidation_0-merror:0.00094\tvalidation_1-auc:0.99778\tvalidation_1-merror:0.02809\n",
      "[35]\tvalidation_0-auc:1.00000\tvalidation_0-merror:0.00094\tvalidation_1-auc:0.99781\tvalidation_1-merror:0.02996\n",
      "[36]\tvalidation_0-auc:1.00000\tvalidation_0-merror:0.00047\tvalidation_1-auc:0.99784\tvalidation_1-merror:0.02996\n",
      "[37]\tvalidation_0-auc:1.00000\tvalidation_0-merror:0.00000\tvalidation_1-auc:0.99786\tvalidation_1-merror:0.03184\n",
      "[38]\tvalidation_0-auc:1.00000\tvalidation_0-merror:0.00047\tvalidation_1-auc:0.99784\tvalidation_1-merror:0.03184\n",
      "[39]\tvalidation_0-auc:1.00000\tvalidation_0-merror:0.00047\tvalidation_1-auc:0.99788\tvalidation_1-merror:0.02996\n",
      "[40]\tvalidation_0-auc:1.00000\tvalidation_0-merror:0.00000\tvalidation_1-auc:0.99788\tvalidation_1-merror:0.03371\n",
      "[41]\tvalidation_0-auc:1.00000\tvalidation_0-merror:0.00000\tvalidation_1-auc:0.99793\tvalidation_1-merror:0.02996\n",
      "[42]\tvalidation_0-auc:1.00000\tvalidation_0-merror:0.00000\tvalidation_1-auc:0.99796\tvalidation_1-merror:0.02996\n",
      "[43]\tvalidation_0-auc:1.00000\tvalidation_0-merror:0.00000\tvalidation_1-auc:0.99801\tvalidation_1-merror:0.02809\n",
      "[44]\tvalidation_0-auc:1.00000\tvalidation_0-merror:0.00000\tvalidation_1-auc:0.99807\tvalidation_1-merror:0.02247\n",
      "[45]\tvalidation_0-auc:1.00000\tvalidation_0-merror:0.00000\tvalidation_1-auc:0.99810\tvalidation_1-merror:0.02622\n",
      "[46]\tvalidation_0-auc:1.00000\tvalidation_0-merror:0.00000\tvalidation_1-auc:0.99810\tvalidation_1-merror:0.02622\n",
      "[47]\tvalidation_0-auc:1.00000\tvalidation_0-merror:0.00000\tvalidation_1-auc:0.99820\tvalidation_1-merror:0.02434\n",
      "[48]\tvalidation_0-auc:1.00000\tvalidation_0-merror:0.00000\tvalidation_1-auc:0.99821\tvalidation_1-merror:0.02622\n",
      "[49]\tvalidation_0-auc:1.00000\tvalidation_0-merror:0.00000\tvalidation_1-auc:0.99824\tvalidation_1-merror:0.02622\n",
      "[50]\tvalidation_0-auc:1.00000\tvalidation_0-merror:0.00000\tvalidation_1-auc:0.99826\tvalidation_1-merror:0.02622\n",
      "[51]\tvalidation_0-auc:1.00000\tvalidation_0-merror:0.00000\tvalidation_1-auc:0.99831\tvalidation_1-merror:0.02622\n",
      "[52]\tvalidation_0-auc:1.00000\tvalidation_0-merror:0.00000\tvalidation_1-auc:0.99825\tvalidation_1-merror:0.02622\n",
      "[53]\tvalidation_0-auc:1.00000\tvalidation_0-merror:0.00000\tvalidation_1-auc:0.99832\tvalidation_1-merror:0.02622\n",
      "[54]\tvalidation_0-auc:1.00000\tvalidation_0-merror:0.00000\tvalidation_1-auc:0.99829\tvalidation_1-merror:0.02434\n",
      "[55]\tvalidation_0-auc:1.00000\tvalidation_0-merror:0.00000\tvalidation_1-auc:0.99829\tvalidation_1-merror:0.02622\n",
      "[56]\tvalidation_0-auc:1.00000\tvalidation_0-merror:0.00000\tvalidation_1-auc:0.99830\tvalidation_1-merror:0.02434\n",
      "[57]\tvalidation_0-auc:1.00000\tvalidation_0-merror:0.00000\tvalidation_1-auc:0.99829\tvalidation_1-merror:0.02247\n",
      "[58]\tvalidation_0-auc:1.00000\tvalidation_0-merror:0.00000\tvalidation_1-auc:0.99831\tvalidation_1-merror:0.02434\n",
      "[59]\tvalidation_0-auc:1.00000\tvalidation_0-merror:0.00000\tvalidation_1-auc:0.99831\tvalidation_1-merror:0.02434\n",
      "[60]\tvalidation_0-auc:1.00000\tvalidation_0-merror:0.00000\tvalidation_1-auc:0.99837\tvalidation_1-merror:0.02434\n",
      "[61]\tvalidation_0-auc:1.00000\tvalidation_0-merror:0.00000\tvalidation_1-auc:0.99844\tvalidation_1-merror:0.02247\n",
      "[62]\tvalidation_0-auc:1.00000\tvalidation_0-merror:0.00000\tvalidation_1-auc:0.99843\tvalidation_1-merror:0.02434\n",
      "[63]\tvalidation_0-auc:1.00000\tvalidation_0-merror:0.00000\tvalidation_1-auc:0.99845\tvalidation_1-merror:0.02809\n",
      "[64]\tvalidation_0-auc:1.00000\tvalidation_0-merror:0.00000\tvalidation_1-auc:0.99845\tvalidation_1-merror:0.02809\n",
      "[65]\tvalidation_0-auc:1.00000\tvalidation_0-merror:0.00000\tvalidation_1-auc:0.99843\tvalidation_1-merror:0.02622\n",
      "[66]\tvalidation_0-auc:1.00000\tvalidation_0-merror:0.00000\tvalidation_1-auc:0.99844\tvalidation_1-merror:0.02434\n",
      "[67]\tvalidation_0-auc:1.00000\tvalidation_0-merror:0.00000\tvalidation_1-auc:0.99845\tvalidation_1-merror:0.02434\n",
      "[68]\tvalidation_0-auc:1.00000\tvalidation_0-merror:0.00000\tvalidation_1-auc:0.99843\tvalidation_1-merror:0.02434\n",
      "[69]\tvalidation_0-auc:1.00000\tvalidation_0-merror:0.00000\tvalidation_1-auc:0.99842\tvalidation_1-merror:0.02434\n",
      "[70]\tvalidation_0-auc:1.00000\tvalidation_0-merror:0.00000\tvalidation_1-auc:0.99843\tvalidation_1-merror:0.02434\n",
      "[71]\tvalidation_0-auc:1.00000\tvalidation_0-merror:0.00000\tvalidation_1-auc:0.99841\tvalidation_1-merror:0.02434\n",
      "[72]\tvalidation_0-auc:1.00000\tvalidation_0-merror:0.00000\tvalidation_1-auc:0.99844\tvalidation_1-merror:0.02434\n",
      "[73]\tvalidation_0-auc:1.00000\tvalidation_0-merror:0.00000\tvalidation_1-auc:0.99845\tvalidation_1-merror:0.02434\n",
      "[74]\tvalidation_0-auc:1.00000\tvalidation_0-merror:0.00000\tvalidation_1-auc:0.99842\tvalidation_1-merror:0.02622\n",
      "[75]\tvalidation_0-auc:1.00000\tvalidation_0-merror:0.00000\tvalidation_1-auc:0.99845\tvalidation_1-merror:0.02434\n",
      "[76]\tvalidation_0-auc:1.00000\tvalidation_0-merror:0.00000\tvalidation_1-auc:0.99847\tvalidation_1-merror:0.02434\n",
      "[77]\tvalidation_0-auc:1.00000\tvalidation_0-merror:0.00000\tvalidation_1-auc:0.99850\tvalidation_1-merror:0.02434\n",
      "[78]\tvalidation_0-auc:1.00000\tvalidation_0-merror:0.00000\tvalidation_1-auc:0.99848\tvalidation_1-merror:0.02247\n",
      "[79]\tvalidation_0-auc:1.00000\tvalidation_0-merror:0.00000\tvalidation_1-auc:0.99844\tvalidation_1-merror:0.02247\n",
      "[80]\tvalidation_0-auc:1.00000\tvalidation_0-merror:0.00000\tvalidation_1-auc:0.99844\tvalidation_1-merror:0.02247\n",
      "[81]\tvalidation_0-auc:1.00000\tvalidation_0-merror:0.00000\tvalidation_1-auc:0.99845\tvalidation_1-merror:0.02247\n",
      "[82]\tvalidation_0-auc:1.00000\tvalidation_0-merror:0.00000\tvalidation_1-auc:0.99842\tvalidation_1-merror:0.02434\n",
      "[83]\tvalidation_0-auc:1.00000\tvalidation_0-merror:0.00000\tvalidation_1-auc:0.99844\tvalidation_1-merror:0.02434\n",
      "[84]\tvalidation_0-auc:1.00000\tvalidation_0-merror:0.00000\tvalidation_1-auc:0.99844\tvalidation_1-merror:0.02247\n",
      "[85]\tvalidation_0-auc:1.00000\tvalidation_0-merror:0.00000\tvalidation_1-auc:0.99846\tvalidation_1-merror:0.02060\n",
      "[86]\tvalidation_0-auc:1.00000\tvalidation_0-merror:0.00000\tvalidation_1-auc:0.99845\tvalidation_1-merror:0.02060\n",
      "[87]\tvalidation_0-auc:1.00000\tvalidation_0-merror:0.00000\tvalidation_1-auc:0.99844\tvalidation_1-merror:0.02247\n",
      "[88]\tvalidation_0-auc:1.00000\tvalidation_0-merror:0.00000\tvalidation_1-auc:0.99845\tvalidation_1-merror:0.02247\n",
      "[89]\tvalidation_0-auc:1.00000\tvalidation_0-merror:0.00000\tvalidation_1-auc:0.99843\tvalidation_1-merror:0.02434\n",
      "[90]\tvalidation_0-auc:1.00000\tvalidation_0-merror:0.00000\tvalidation_1-auc:0.99843\tvalidation_1-merror:0.02247\n",
      "[91]\tvalidation_0-auc:1.00000\tvalidation_0-merror:0.00000\tvalidation_1-auc:0.99838\tvalidation_1-merror:0.02247\n",
      "[92]\tvalidation_0-auc:1.00000\tvalidation_0-merror:0.00000\tvalidation_1-auc:0.99840\tvalidation_1-merror:0.02247\n",
      "[93]\tvalidation_0-auc:1.00000\tvalidation_0-merror:0.00000\tvalidation_1-auc:0.99840\tvalidation_1-merror:0.02247\n",
      "[94]\tvalidation_0-auc:1.00000\tvalidation_0-merror:0.00000\tvalidation_1-auc:0.99841\tvalidation_1-merror:0.02247\n",
      "[95]\tvalidation_0-auc:1.00000\tvalidation_0-merror:0.00000\tvalidation_1-auc:0.99838\tvalidation_1-merror:0.02247\n",
      "[96]\tvalidation_0-auc:1.00000\tvalidation_0-merror:0.00000\tvalidation_1-auc:0.99839\tvalidation_1-merror:0.02247\n",
      "[97]\tvalidation_0-auc:1.00000\tvalidation_0-merror:0.00000\tvalidation_1-auc:0.99837\tvalidation_1-merror:0.02247\n",
      "[98]\tvalidation_0-auc:1.00000\tvalidation_0-merror:0.00000\tvalidation_1-auc:0.99839\tvalidation_1-merror:0.02434\n",
      "[99]\tvalidation_0-auc:1.00000\tvalidation_0-merror:0.00000\tvalidation_1-auc:0.99840\tvalidation_1-merror:0.02434\n",
      "[100]\tvalidation_0-auc:1.00000\tvalidation_0-merror:0.00000\tvalidation_1-auc:0.99840\tvalidation_1-merror:0.02247\n"
     ]
    },
    {
     "name": "stdout",
     "output_type": "stream",
     "text": [
      "[101]\tvalidation_0-auc:1.00000\tvalidation_0-merror:0.00000\tvalidation_1-auc:0.99838\tvalidation_1-merror:0.02060\n",
      "[102]\tvalidation_0-auc:1.00000\tvalidation_0-merror:0.00000\tvalidation_1-auc:0.99837\tvalidation_1-merror:0.02060\n",
      "[103]\tvalidation_0-auc:1.00000\tvalidation_0-merror:0.00000\tvalidation_1-auc:0.99840\tvalidation_1-merror:0.02060\n",
      "[104]\tvalidation_0-auc:1.00000\tvalidation_0-merror:0.00000\tvalidation_1-auc:0.99838\tvalidation_1-merror:0.02247\n",
      "[105]\tvalidation_0-auc:1.00000\tvalidation_0-merror:0.00000\tvalidation_1-auc:0.99839\tvalidation_1-merror:0.02247\n",
      "[106]\tvalidation_0-auc:1.00000\tvalidation_0-merror:0.00000\tvalidation_1-auc:0.99834\tvalidation_1-merror:0.02247\n",
      "[107]\tvalidation_0-auc:1.00000\tvalidation_0-merror:0.00000\tvalidation_1-auc:0.99837\tvalidation_1-merror:0.02247\n",
      "[108]\tvalidation_0-auc:1.00000\tvalidation_0-merror:0.00000\tvalidation_1-auc:0.99836\tvalidation_1-merror:0.02247\n",
      "[109]\tvalidation_0-auc:1.00000\tvalidation_0-merror:0.00000\tvalidation_1-auc:0.99838\tvalidation_1-merror:0.02060\n",
      "CPU times: total: 2.75 s\n",
      "Wall time: 585 ms\n"
     ]
    },
    {
     "data": {
      "text/html": [
       "<style>#sk-container-id-7 {color: black;background-color: white;}#sk-container-id-7 pre{padding: 0;}#sk-container-id-7 div.sk-toggleable {background-color: white;}#sk-container-id-7 label.sk-toggleable__label {cursor: pointer;display: block;width: 100%;margin-bottom: 0;padding: 0.3em;box-sizing: border-box;text-align: center;}#sk-container-id-7 label.sk-toggleable__label-arrow:before {content: \"▸\";float: left;margin-right: 0.25em;color: #696969;}#sk-container-id-7 label.sk-toggleable__label-arrow:hover:before {color: black;}#sk-container-id-7 div.sk-estimator:hover label.sk-toggleable__label-arrow:before {color: black;}#sk-container-id-7 div.sk-toggleable__content {max-height: 0;max-width: 0;overflow: hidden;text-align: left;background-color: #f0f8ff;}#sk-container-id-7 div.sk-toggleable__content pre {margin: 0.2em;color: black;border-radius: 0.25em;background-color: #f0f8ff;}#sk-container-id-7 input.sk-toggleable__control:checked~div.sk-toggleable__content {max-height: 200px;max-width: 100%;overflow: auto;}#sk-container-id-7 input.sk-toggleable__control:checked~label.sk-toggleable__label-arrow:before {content: \"▾\";}#sk-container-id-7 div.sk-estimator input.sk-toggleable__control:checked~label.sk-toggleable__label {background-color: #d4ebff;}#sk-container-id-7 div.sk-label input.sk-toggleable__control:checked~label.sk-toggleable__label {background-color: #d4ebff;}#sk-container-id-7 input.sk-hidden--visually {border: 0;clip: rect(1px 1px 1px 1px);clip: rect(1px, 1px, 1px, 1px);height: 1px;margin: -1px;overflow: hidden;padding: 0;position: absolute;width: 1px;}#sk-container-id-7 div.sk-estimator {font-family: monospace;background-color: #f0f8ff;border: 1px dotted black;border-radius: 0.25em;box-sizing: border-box;margin-bottom: 0.5em;}#sk-container-id-7 div.sk-estimator:hover {background-color: #d4ebff;}#sk-container-id-7 div.sk-parallel-item::after {content: \"\";width: 100%;border-bottom: 1px solid gray;flex-grow: 1;}#sk-container-id-7 div.sk-label:hover label.sk-toggleable__label {background-color: #d4ebff;}#sk-container-id-7 div.sk-serial::before {content: \"\";position: absolute;border-left: 1px solid gray;box-sizing: border-box;top: 0;bottom: 0;left: 50%;z-index: 0;}#sk-container-id-7 div.sk-serial {display: flex;flex-direction: column;align-items: center;background-color: white;padding-right: 0.2em;padding-left: 0.2em;position: relative;}#sk-container-id-7 div.sk-item {position: relative;z-index: 1;}#sk-container-id-7 div.sk-parallel {display: flex;align-items: stretch;justify-content: center;background-color: white;position: relative;}#sk-container-id-7 div.sk-item::before, #sk-container-id-7 div.sk-parallel-item::before {content: \"\";position: absolute;border-left: 1px solid gray;box-sizing: border-box;top: 0;bottom: 0;left: 50%;z-index: -1;}#sk-container-id-7 div.sk-parallel-item {display: flex;flex-direction: column;z-index: 1;position: relative;background-color: white;}#sk-container-id-7 div.sk-parallel-item:first-child::after {align-self: flex-end;width: 50%;}#sk-container-id-7 div.sk-parallel-item:last-child::after {align-self: flex-start;width: 50%;}#sk-container-id-7 div.sk-parallel-item:only-child::after {width: 0;}#sk-container-id-7 div.sk-dashed-wrapped {border: 1px dashed gray;margin: 0 0.4em 0.5em 0.4em;box-sizing: border-box;padding-bottom: 0.4em;background-color: white;}#sk-container-id-7 div.sk-label label {font-family: monospace;font-weight: bold;display: inline-block;line-height: 1.2em;}#sk-container-id-7 div.sk-label-container {text-align: center;}#sk-container-id-7 div.sk-container {/* jupyter's `normalize.less` sets `[hidden] { display: none; }` but bootstrap.min.css set `[hidden] { display: none !important; }` so we also need the `!important` here to be able to override the default hidden behavior on the sphinx rendered scikit-learn.org. See: https://github.com/scikit-learn/scikit-learn/issues/21755 */display: inline-block !important;position: relative;}#sk-container-id-7 div.sk-text-repr-fallback {display: none;}</style><div id=\"sk-container-id-7\" class=\"sk-top-container\"><div class=\"sk-text-repr-fallback\"><pre>XGBClassifier(base_score=None, booster=None, callbacks=None,\n",
       "              colsample_bylevel=None, colsample_bynode=None,\n",
       "              colsample_bytree=None, device=None, early_stopping_rounds=None,\n",
       "              enable_categorical=False, eval_metric=None, feature_types=None,\n",
       "              gamma=None, grow_policy=None, importance_type=None,\n",
       "              interaction_constraints=None, learning_rate=None, max_bin=None,\n",
       "              max_cat_threshold=None, max_cat_to_onehot=None,\n",
       "              max_delta_step=None, max_depth=4, max_leaves=None,\n",
       "              min_child_weight=None, missing=nan, monotone_constraints=None,\n",
       "              multi_strategy=None, n_estimators=110, n_jobs=None, nthread=-1,\n",
       "              num_parallel_tree=None, ...)</pre><b>In a Jupyter environment, please rerun this cell to show the HTML representation or trust the notebook. <br />On GitHub, the HTML representation is unable to render, please try loading this page with nbviewer.org.</b></div><div class=\"sk-container\" hidden><div class=\"sk-item\"><div class=\"sk-estimator sk-toggleable\"><input class=\"sk-toggleable__control sk-hidden--visually\" id=\"sk-estimator-id-7\" type=\"checkbox\" checked><label for=\"sk-estimator-id-7\" class=\"sk-toggleable__label sk-toggleable__label-arrow\">XGBClassifier</label><div class=\"sk-toggleable__content\"><pre>XGBClassifier(base_score=None, booster=None, callbacks=None,\n",
       "              colsample_bylevel=None, colsample_bynode=None,\n",
       "              colsample_bytree=None, device=None, early_stopping_rounds=None,\n",
       "              enable_categorical=False, eval_metric=None, feature_types=None,\n",
       "              gamma=None, grow_policy=None, importance_type=None,\n",
       "              interaction_constraints=None, learning_rate=None, max_bin=None,\n",
       "              max_cat_threshold=None, max_cat_to_onehot=None,\n",
       "              max_delta_step=None, max_depth=4, max_leaves=None,\n",
       "              min_child_weight=None, missing=nan, monotone_constraints=None,\n",
       "              multi_strategy=None, n_estimators=110, n_jobs=None, nthread=-1,\n",
       "              num_parallel_tree=None, ...)</pre></div></div></div></div></div>"
      ],
      "text/plain": [
       "XGBClassifier(base_score=None, booster=None, callbacks=None,\n",
       "              colsample_bylevel=None, colsample_bynode=None,\n",
       "              colsample_bytree=None, device=None, early_stopping_rounds=None,\n",
       "              enable_categorical=False, eval_metric=None, feature_types=None,\n",
       "              gamma=None, grow_policy=None, importance_type=None,\n",
       "              interaction_constraints=None, learning_rate=None, max_bin=None,\n",
       "              max_cat_threshold=None, max_cat_to_onehot=None,\n",
       "              max_delta_step=None, max_depth=4, max_leaves=None,\n",
       "              min_child_weight=None, missing=nan, monotone_constraints=None,\n",
       "              multi_strategy=None, n_estimators=110, n_jobs=None, nthread=-1,\n",
       "              num_parallel_tree=None, ...)"
      ]
     },
     "execution_count": 46,
     "metadata": {},
     "output_type": "execute_result"
    }
   ],
   "source": [
    "eval_set = [(X_train, y_train), (X_test, y_test)]\n",
    "eval_metric = [\"auc\",\"merror\"]\n",
    "%time m2_xgb.fit(X_train, y_train, eval_set=eval_set, eval_metric=eval_metric, verbose=True)"
   ]
  },
  {
   "cell_type": "code",
   "execution_count": 47,
   "id": "4692adc7",
   "metadata": {},
   "outputs": [],
   "source": [
    "result = m2_xgb.evals_result()\n",
    "epochs = len(result['validation_0']['merror'])\n",
    "x_axis = range(0, epochs)"
   ]
  },
  {
   "cell_type": "code",
   "execution_count": 48,
   "id": "4af06c6c",
   "metadata": {},
   "outputs": [
    {
     "data": {
      "image/png": "[encoded data removed]",
      "text/plain": [
       "<Figure size 640x480 with 1 Axes>"
      ]
     },
     "metadata": {},
     "output_type": "display_data"
    }
   ],
   "source": [
    "import matplotlib.pyplot as pyplot\n",
    "fig, ax = pyplot.subplots()\n",
    "ax.plot(x_axis, result['validation_0']['auc'], label='Train')\n",
    "ax.plot(x_axis, result['validation_1']['auc'], label='Test')\n",
    "ax.legend()\n",
    "pyplot.ylabel('AUC')\n",
    "pyplot.title('XGBoost AUC')\n",
    "pyplot.show()"
   ]
  },
  {
   "cell_type": "code",
   "execution_count": 49,
   "id": "e9d9a5c4",
   "metadata": {},
   "outputs": [
    {
     "data": {
      "text/plain": [
       "0.9794007490636704"
      ]
     },
     "execution_count": 49,
     "metadata": {},
     "output_type": "execute_result"
    }
   ],
   "source": [
    "predictions = m2_xgb.predict(X_test)\n",
    "from sklearn.metrics import accuracy_score\n",
    "# Evaluate the accuracy of the model\n",
    "accuracy = accuracy_score(y_test, predictions)\n",
    "accuracy"
   ]
  },
  {
   "cell_type": "code",
   "execution_count": 50,
   "id": "c0e893cd",
   "metadata": {},
   "outputs": [
    {
     "data": {
      "text/html": [
       "<div>\n",
       "<style scoped>\n",
       "    .dataframe tbody tr th:only-of-type {\n",
       "        vertical-align: middle;\n",
       "    }\n",
       "\n",
       "    .dataframe tbody tr th {\n",
       "        vertical-align: top;\n",
       "    }\n",
       "\n",
       "    .dataframe thead th {\n",
       "        text-align: right;\n",
       "    }\n",
       "</style>\n",
       "<table border=\"1\" class=\"dataframe\">\n",
       "  <thead>\n",
       "    <tr style=\"text-align: right;\">\n",
       "      <th></th>\n",
       "      <th>class</th>\n",
       "    </tr>\n",
       "  </thead>\n",
       "  <tbody>\n",
       "    <tr>\n",
       "      <th>0</th>\n",
       "      <td>feet_dist_high</td>\n",
       "    </tr>\n",
       "    <tr>\n",
       "      <th>1</th>\n",
       "      <td>feet_dist_high</td>\n",
       "    </tr>\n",
       "    <tr>\n",
       "      <th>2</th>\n",
       "      <td>feet_dist_high</td>\n",
       "    </tr>\n",
       "    <tr>\n",
       "      <th>3</th>\n",
       "      <td>feet_dist_high</td>\n",
       "    </tr>\n",
       "    <tr>\n",
       "      <th>4</th>\n",
       "      <td>feet_dist_high</td>\n",
       "    </tr>\n",
       "    <tr>\n",
       "      <th>...</th>\n",
       "      <td>...</td>\n",
       "    </tr>\n",
       "    <tr>\n",
       "      <th>2664</th>\n",
       "      <td>feet_dist_low</td>\n",
       "    </tr>\n",
       "    <tr>\n",
       "      <th>2665</th>\n",
       "      <td>feet_dist_low</td>\n",
       "    </tr>\n",
       "    <tr>\n",
       "      <th>2666</th>\n",
       "      <td>feet_dist_low</td>\n",
       "    </tr>\n",
       "    <tr>\n",
       "      <th>2667</th>\n",
       "      <td>feet_dist_low</td>\n",
       "    </tr>\n",
       "    <tr>\n",
       "      <th>2668</th>\n",
       "      <td>feet_dist_low</td>\n",
       "    </tr>\n",
       "  </tbody>\n",
       "</table>\n",
       "<p>2669 rows × 1 columns</p>\n",
       "</div>"
      ],
      "text/plain": [
       "               class\n",
       "0     feet_dist_high\n",
       "1     feet_dist_high\n",
       "2     feet_dist_high\n",
       "3     feet_dist_high\n",
       "4     feet_dist_high\n",
       "...              ...\n",
       "2664   feet_dist_low\n",
       "2665   feet_dist_low\n",
       "2666   feet_dist_low\n",
       "2667   feet_dist_low\n",
       "2668   feet_dist_low\n",
       "\n",
       "[2669 rows x 1 columns]"
      ]
     },
     "execution_count": 50,
     "metadata": {},
     "output_type": "execute_result"
    }
   ],
   "source": [
    "y"
   ]
  },
  {
   "cell_type": "code",
   "execution_count": 51,
   "id": "0f2e9888",
   "metadata": {},
   "outputs": [
    {
     "data": {
      "text/plain": [
       "array([[0.],\n",
       "       [0.],\n",
       "       [0.],\n",
       "       ...,\n",
       "       [1.],\n",
       "       [1.],\n",
       "       [1.]])"
      ]
     },
     "execution_count": 51,
     "metadata": {},
     "output_type": "execute_result"
    }
   ],
   "source": [
    "y_encoded"
   ]
  },
  {
   "cell_type": "code",
   "execution_count": null,
   "id": "88775a23",
   "metadata": {},
   "outputs": [],
   "source": []
  }
 ],
 "metadata": {
  "kernelspec": {
   "display_name": "Python 3 (ipykernel)",
   "language": "python",
   "name": "python3"
  },
  "language_info": {
   "codemirror_mode": {
    "name": "ipython",
    "version": 3
   },
   "file_extension": ".py",
   "mimetype": "text/x-python",
   "name": "python",
   "nbconvert_exporter": "python",
   "pygments_lexer": "ipython3",
   "version": "3.10.9"
  }
 },
 "nbformat": 4,
 "nbformat_minor": 5
}
